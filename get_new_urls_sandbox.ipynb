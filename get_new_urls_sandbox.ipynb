{
 "cells": [
  {
   "cell_type": "code",
   "execution_count": 5,
   "metadata": {},
   "outputs": [],
   "source": [
    "links2raw = ['https://tokubai.co.jp/%E3%83%A9%E3%82%A4%E3%83%95/9470/leaflets/41521798',\n",
    " 'https://tokubai.co.jp/%E3%83%A9%E3%82%A4%E3%83%95/9470/leaflets/41521824',\n",
    " 'https://tokubai.co.jp/%E3%82%B0%E3%83%AC%E3%83%BC%E3%82%B9%E3%81%9F%E3%81%AA%E3%81%8B/12265/leaflets/41550454',\n",
    " 'https://tokubai.co.jp/%E3%82%B0%E3%83%AC%E3%83%BC%E3%82%B9%E3%81%9F%E3%81%AA%E3%81%8B/12265/leaflets/41550455']"
   ]
  },
  {
   "cell_type": "code",
   "execution_count": 13,
   "metadata": {},
   "outputs": [
    {
     "data": {
      "text/plain": [
       "['https://tokubai.co.jp/%E3%83%A9%E3%82%A4%E3%83%95/9470/leaflets/41521798',\n",
       " 'https://tokubai.co.jp/%E3%83%A9%E3%82%A4%E3%83%95/9470/leaflets/41521824',\n",
       " 'https://tokubai.co.jp/%E3%82%B0%E3%83%AC%E3%83%BC%E3%82%B9%E3%81%9F%E3%81%AA%E3%81%8B/12265/leaflets/41550454',\n",
       " 'https://tokubai.co.jp/%E3%82%B0%E3%83%AC%E3%83%BC%E3%82%B9%E3%81%9F%E3%81%AA%E3%81%8B/12265/leaflets/41550455']"
      ]
     },
     "execution_count": 13,
     "metadata": {},
     "output_type": "execute_result"
    }
   ],
   "source": [
    "links2raw"
   ]
  },
  {
   "attachments": {},
   "cell_type": "markdown",
   "metadata": {},
   "source": [
    "## 3.`links2raw`には最新ではないチラシも含まれるため、関数`get_new_urls(links2raw)`を作成。`./urls.txt`を利用。返り値`links2`には新しいチラシの階層2リンク"
   ]
  },
  {
   "cell_type": "code",
   "execution_count": 1,
   "metadata": {},
   "outputs": [],
   "source": [
    "# 未解析のチラシURLを取得,これはqiitaにあったコード\n",
    "def get_new_urls(links2raw):\n",
    "  # urls.txt読込\n",
    "  old_url_list = []\n",
    "  with open('/urls.txt', 'r') as f:\n",
    "    old_url_list = f.read().splitlines()\n",
    "\n",
    "  new_url_list = []\n",
    "  urls_text = []\n",
    "  count = 0\n",
    "  for url_info in url_list:\n",
    "    urls_text.append(url_info['url'] + '\\n')\n",
    "\n",
    "    if url_info['url'] not in old_url_list:\n",
    "      # 新規\n",
    "      url_info['number'] = count\n",
    "      new_url_list.append(url_info)\n",
    "      count += 1\n",
    "\n",
    "  # 今回のURL一覧をurls.txtに書込\n",
    "  f = open('urls.txt', 'w')\n",
    "  f.writelines(urls_text)\n",
    "  f.close()\n",
    "\n",
    "  return new_url_list"
   ]
  },
  {
   "cell_type": "code",
   "execution_count": 72,
   "metadata": {},
   "outputs": [],
   "source": [
    "def get_new_urls(links2raw):\n",
    "    new_urls_list = []\n",
    "\n",
    "    with open('urls.txt',\"r\") as f: #urls.txtの中には昨日使用したlink2リンクの一覧がある\n",
    "        lines = f.readlines()\n",
    "        lines = [line.replace(\"¥n\",\"\").replace(\"\\n\",\"\") for line in lines] #改行文字削除 怖かったので\\と¥を書いた\n",
    "\n",
    "    for link2raw in links2raw:\n",
    "        if link2raw in lines: #昨日使用したリンクは無視\n",
    "            #print(f\"link2raw {link2raw} is in links\")\n",
    "            continue\n",
    "        else: #昨日なかったリンクは欲しいのでnew_urls_listに格納\n",
    "            new_urls_list.append(link2raw)\n",
    "            \n",
    "    urls_new = map(lambda x: x + \"\\n\", links2raw)\n",
    "    #links2rawの内容をurls.txtに保存\n",
    "    with open('urls.txt', 'w', encoding='utf-8') as f:\n",
    "        f.writelines(urls_new)\n",
    "\n",
    "    return new_urls_list"
   ]
  },
  {
   "cell_type": "code",
   "execution_count": 73,
   "metadata": {},
   "outputs": [
    {
     "data": {
      "text/plain": [
       "['https://tokubai.co.jp/%E3%83%A9%E3%82%A4%E3%83%95/9470/leaflets/41521824',\n",
       " 'https://tokubai.co.jp/%E3%82%B0%E3%83%AC%E3%83%BC%E3%82%B9%E3%81%9F%E3%81%AA%E3%81%8B/12265/leaflets/41550454']"
      ]
     },
     "execution_count": 73,
     "metadata": {},
     "output_type": "execute_result"
    }
   ],
   "source": [
    "get_new_urls(links2raw)"
   ]
  },
  {
   "cell_type": "code",
   "execution_count": null,
   "metadata": {},
   "outputs": [],
   "source": [
    "https://tokubai.co.jp/%E3%83%A9%E3%82%A4%E3%83%95/9470/leaflets/41521798\n",
    "https://tokubai.co.jp/%E3%83%A9%E3%82%A4%E3%83%95/9470/leaflets/41521798"
   ]
  },
  {
   "cell_type": "code",
   "execution_count": 67,
   "metadata": {},
   "outputs": [
    {
     "data": {
      "text/plain": [
       "['https://tokubai.co.jp/%E3%83%A9%E3%82%A4%E3%83%95/9470/leaflets/41521798',\n",
       " 'https://tokubai.co.jp/%E3%83%A9%E3%82%A4%E3%83%95/9470/leaflets/41521824',\n",
       " 'https://tokubai.co.jp/%E3%82%B0%E3%83%AC%E3%83%BC%E3%82%B9%E3%81%9F%E3%81%AA%E3%81%8B/12265/leaflets/41550454',\n",
       " 'https://tokubai.co.jp/%E3%82%B0%E3%83%AC%E3%83%BC%E3%82%B9%E3%81%9F%E3%81%AA%E3%81%8B/12265/leaflets/41550455']"
      ]
     },
     "execution_count": 67,
     "metadata": {},
     "output_type": "execute_result"
    }
   ],
   "source": [
    "links2raw\n"
   ]
  },
  {
   "cell_type": "code",
   "execution_count": null,
   "metadata": {},
   "outputs": [],
   "source": []
  }
 ],
 "metadata": {
  "kernelspec": {
   "display_name": "base",
   "language": "python",
   "name": "python3"
  },
  "language_info": {
   "codemirror_mode": {
    "name": "ipython",
    "version": 3
   },
   "file_extension": ".py",
   "mimetype": "text/x-python",
   "name": "python",
   "nbconvert_exporter": "python",
   "pygments_lexer": "ipython3",
   "version": "3.9.16"
  },
  "orig_nbformat": 4
 },
 "nbformat": 4,
 "nbformat_minor": 2
}
