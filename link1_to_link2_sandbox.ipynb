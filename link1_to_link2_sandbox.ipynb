{
 "cells": [
  {
   "cell_type": "code",
   "execution_count": 82,
   "metadata": {},
   "outputs": [],
   "source": [
    "import calendar\n",
    "import requests\n",
    "from bs4 import BeautifulSoup\n",
    "ua = \"Mozilla/5.0 (Macintosh; Intel Mac OS X 10_15_7) AppleWebKit/537.36 (KHTML, like Gecko) Chrome/112.0.0.0 Safari/537.36\"\n",
    "headers = {'User-Agent': ua}"
   ]
  },
  {
   "cell_type": "code",
   "execution_count": 3,
   "metadata": {},
   "outputs": [],
   "source": [
    "links1 = []\n",
    "links1.append(\"https://tokubai.co.jp/%E3%83%A9%E3%82%A4%E3%83%95/9470\") #ライフ\n",
    "links1.append(\"https://tokubai.co.jp/%E3%82%B0%E3%83%AC%E3%83%BC%E3%82%B9%E3%81%9F%E3%81%AA%E3%81%8B/12265\") #グレースたなか\n"
   ]
  },
  {
   "cell_type": "code",
   "execution_count": 42,
   "metadata": {},
   "outputs": [
    {
     "data": {
      "text/plain": [
       "'\\n2023年4月29日〜5月2日まで\\n'"
      ]
     },
     "execution_count": 42,
     "metadata": {},
     "output_type": "execute_result"
    }
   ],
   "source": [
    "link1r = links1[0]\n",
    "r = requests.get(link1r,headers=headers)\n",
    "soup = BeautifulSoup(r.text,\"html.parser\")\n",
    "elements = soup.find_all(class_=\"image_element\")\n",
    "#print(len(elements))\n",
    "elem = soup.find_all(class_=\"image_element\")[4]\n",
    "elem.find(class_=\"description\").string"
   ]
  },
  {
   "cell_type": "code",
   "execution_count": 81,
   "metadata": {},
   "outputs": [],
   "source": [
    "def link1_to_link2(links1):\n",
    "    links2raw = []\n",
    "    for link1 in links1:\n",
    "        if \"%E3%83%A9%E3%82%A4%E3%83%95\" in link1: #ライフの場合\n",
    "            r = requests.get(link1,headers=headers)\n",
    "            soup = BeautifulSoup(r.text,\"html.parser\")\n",
    "            elements = soup.find_all(class_=\"image_element\")\n",
    "            for element in elements:\n",
    "                link = element.get(\"href\")\n",
    "                l = \"https://tokubai.co.jp\"\n",
    "                date = element.find(class_=\"description\").string\n",
    "                if date.count(\"月\") == 1: #チラシ掲載期間が月を跨がない場合 例：/n2023年4月2〜4日まで/n -> 2023,4,2,4\n",
    "                    date = date[1:-1].replace(\"月\",\",\").replace(\"〜\",\",\").replace(\"日まで\",\",\").replace(\"年\",\",\")\n",
    "                    dates = date.split(\",\")\n",
    "                    period = int(dates[3]) - int(dates[2])\n",
    "                \n",
    "                else: #チラシ掲載期間が月を跨ぐ場合　例：/n2023年4月29日〜5月2日まで/n  -> 2023,4,29,5,2\n",
    "                    date = date[1:-1].replace(\"月\",\",\").replace(\"日〜\",\",\").replace(\"日まで\",\",\").replace(\"年\",\",\")\n",
    "                    dates = date.split(\",\")\n",
    "                    period = int(dates[4]) - int(dates[2]) + calendar.monthrange(2023, int(dates[1])+1)[1]\n",
    "                if period < 6: #ライフでは一般的に掲載期間が5日以下のものが取得したいチラシなので\n",
    "                    links2raw.append(l+link)\n",
    "\n",
    "        elif \"%E3%82%B0%E3%83%AC%E3%83%BC%E3%82%B9%E3%81%9F%E3%81%AA%E3%81%8B\" in link1: #グレースたなかの場合\n",
    "            r = requests.get(link1,headers=headers)\n",
    "            soup = BeautifulSoup(r.text,\"html.parser\")\n",
    "            elements = soup.find_all(class_=\"image_element\")\n",
    "            for element in elements:\n",
    "                link = element.get(\"href\")\n",
    "                l = \"https://tokubai.co.jp\"\n",
    "                date = element.find(class_=\"description\").string\n",
    "                links2raw.append(l+link)\n",
    "\n",
    "    return links2raw"
   ]
  },
  {
   "cell_type": "code",
   "execution_count": 80,
   "metadata": {},
   "outputs": [
    {
     "name": "stdout",
     "output_type": "stream",
     "text": [
      "https://tokubai.co.jp/%E3%82%B0%E3%83%AC%E3%83%BC%E3%82%B9%E3%81%9F%E3%81%AA%E3%81%8B/12265/leaflets/41550454\n",
      "https://tokubai.co.jp/%E3%82%B0%E3%83%AC%E3%83%BC%E3%82%B9%E3%81%9F%E3%81%AA%E3%81%8B/12265/leaflets/41550455\n"
     ]
    },
    {
     "data": {
      "text/plain": [
       "['https://tokubai.co.jp/%E3%83%A9%E3%82%A4%E3%83%95/9470/leaflets/41521798',\n",
       " 'https://tokubai.co.jp/%E3%83%A9%E3%82%A4%E3%83%95/9470/leaflets/41521824']"
      ]
     },
     "execution_count": 80,
     "metadata": {},
     "output_type": "execute_result"
    }
   ],
   "source": [
    "link1_to_link2(links1)"
   ]
  },
  {
   "cell_type": "code",
   "execution_count": 79,
   "metadata": {},
   "outputs": [
    {
     "data": {
      "text/plain": [
       "['https://tokubai.co.jp/%E3%83%A9%E3%82%A4%E3%83%95/9470',\n",
       " 'https://tokubai.co.jp/%E3%82%B0%E3%83%AC%E3%83%BC%E3%82%B9%E3%81%9F%E3%81%AA%E3%81%8B/12265']"
      ]
     },
     "execution_count": 79,
     "metadata": {},
     "output_type": "execute_result"
    }
   ],
   "source": [
    "links1"
   ]
  },
  {
   "cell_type": "code",
   "execution_count": 1,
   "metadata": {},
   "outputs": [],
   "source": [
    "t = (\"5\",\"6\",\"7\")"
   ]
  },
  {
   "cell_type": "code",
   "execution_count": 2,
   "metadata": {},
   "outputs": [
    {
     "data": {
      "text/plain": [
       "'7'"
      ]
     },
     "execution_count": 2,
     "metadata": {},
     "output_type": "execute_result"
    }
   ],
   "source": [
    "t[2]"
   ]
  },
  {
   "cell_type": "code",
   "execution_count": null,
   "metadata": {},
   "outputs": [],
   "source": []
  }
 ],
 "metadata": {
  "kernelspec": {
   "display_name": "base",
   "language": "python",
   "name": "python3"
  },
  "language_info": {
   "codemirror_mode": {
    "name": "ipython",
    "version": 3
   },
   "file_extension": ".py",
   "mimetype": "text/x-python",
   "name": "python",
   "nbconvert_exporter": "python",
   "pygments_lexer": "ipython3",
   "version": "3.9.16"
  },
  "orig_nbformat": 4
 },
 "nbformat": 4,
 "nbformat_minor": 2
}
