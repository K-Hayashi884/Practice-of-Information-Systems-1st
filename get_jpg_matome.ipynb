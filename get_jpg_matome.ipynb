{
 "cells": [
  {
   "attachments": {},
   "cell_type": "markdown",
   "metadata": {},
   "source": [
    "<h1 id=\"tocheading\">Table of Contents</h1>\n",
    "<div id=\"toc\"></div>\n",
    "<script src=\"https://kmahelona.github.io/ipython_notebook_goodies/ipython_notebook_toc.js\"></script>"
   ]
  },
  {
   "attachments": {},
   "cell_type": "markdown",
   "metadata": {},
   "source": [
    "# 全体の流れ\n",
    "- 1.リスト`links1`にチラシを取得する店の階層1リンクを格納(例:https://tokubai.co.jp/%E3%83%A9%E3%82%A4%E3%83%95/9470)\n",
    "- 2.店ごとに取得する条件が異なるため、`getlinks12(link1)`という関数を作成。この関数は`links1`に含まれる適切なチラシの階層2リンク(string)のlist(`links2raw`)を返す\n",
    "- 3.`links2raw`には最新ではないチラシも含まれるため、関数`get_new_urls(links2raw)`を作成。`./urls.txt`を利用。返り値`links2`には新しいチラシの階層2リンク\n",
    "- [4.`get_urls()`で階層2のリンクを階層3のリンク`links3`に変換](#4.`get_urls()`で階層2のリンクを階層3のリンクに変換 )\n",
    "- [5.`DLjpg()`で内部にダウンロード](#5.`DLjpg()`で内部にダウンロード)"
   ]
  },
  {
   "cell_type": "code",
   "execution_count": null,
   "metadata": {},
   "outputs": [],
   "source": [
    "#関数設定した後に実行する部分\n",
    "links1 = [\"url_life_kitashirakawa\",\"url_coremo\",\"url_life_higasi1jou\",\"url...\"]\n",
    "links2raw = getlinks12(links1)\n",
    "links2 = get_new_urls=(links2raw)\n",
    "links3 = get_urls(links2)\n",
    "DLjpg(links3)"
   ]
  },
  {
   "attachments": {},
   "cell_type": "markdown",
   "metadata": {},
   "source": [
    "## 事前準備"
   ]
  },
  {
   "cell_type": "code",
   "execution_count": 2,
   "metadata": {},
   "outputs": [],
   "source": [
    "import requests\n",
    "from bs4 import BeautifulSoup"
   ]
  },
  {
   "attachments": {},
   "cell_type": "markdown",
   "metadata": {},
   "source": [
    "## 1.リスト`links1`にチラシを取得する店の階層1リンクを格納"
   ]
  },
  {
   "cell_type": "code",
   "execution_count": null,
   "metadata": {},
   "outputs": [],
   "source": [
    "links1 = []\n",
    "links1.append(\"https://tokubai.co.jp/%E3%83%A9%E3%82%A4%E3%83%95/9470\") #ライフ北白川\n",
    "links1.append(\"https://tokubai.co.jp/%E3%82%B3%E3%83%AC%E3%83%A2/187995\") #コレモ"
   ]
  },
  {
   "attachments": {},
   "cell_type": "markdown",
   "metadata": {},
   "source": [
    "## 4.`get_urls()`で階層2のリンクを階層3のリンクに変換"
   ]
  },
  {
   "cell_type": "code",
   "execution_count": null,
   "metadata": {},
   "outputs": [],
   "source": [
    "#まとめ： 関数内のurlにあるチラシ.jpgのリンクを出力する`get_url()`\n",
    "def get_url(urls):\n",
    "  #ユーザエージェント変更\n",
    "  ua = 'Mozilla/5.0 (Macintosh; Intel Mac OS X 10_13_5) AppleWebKit/537.36 (KHTML, like Gecko) Chrome/67.0.3396.99 Safari/537.36'\n",
    "  headers = {'User-Agent': ua}\n",
    "  new_urls = []\n",
    "  for url in urls:\n",
    "    r = requests.get(url,headers=headers)\n",
    "    soup = BeautifulSoup(r.text,\"html.parser\")\n",
    "    new_urls.append(soup.find('img',class_='leaflet').get('src')) \n",
    "  return new_urls"
   ]
  },
  {
   "attachments": {},
   "cell_type": "markdown",
   "metadata": {},
   "source": [
    "## 5.`DLjpg()`で内部にダウンロード"
   ]
  },
  {
   "cell_type": "code",
   "execution_count": null,
   "metadata": {},
   "outputs": [],
   "source": [
    "def DLjpg(links3):\n",
    "    for link in links3:\n",
    "        "
   ]
  },
  {
   "cell_type": "markdown",
   "metadata": {},
   "source": []
  }
 ],
 "metadata": {
  "kernelspec": {
   "display_name": "base",
   "language": "python",
   "name": "python3"
  },
  "language_info": {
   "codemirror_mode": {
    "name": "ipython",
    "version": 3
   },
   "file_extension": ".py",
   "mimetype": "text/x-python",
   "name": "python",
   "nbconvert_exporter": "python",
   "pygments_lexer": "ipython3",
   "version": "3.9.16"
  },
  "orig_nbformat": 4
 },
 "nbformat": 4,
 "nbformat_minor": 2
}
