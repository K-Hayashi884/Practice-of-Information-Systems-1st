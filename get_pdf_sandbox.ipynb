{
 "cells": [
  {
   "cell_type": "code",
   "execution_count": 14,
   "metadata": {},
   "outputs": [],
   "source": [
    "import requests\n",
    "from bs4 import BeautifulSoup\n",
    "ua = 'Mozilla/5.0 (Macintosh; Intel Mac OS X 10_13_5) AppleWebKit/537.36 (KHTML, like Gecko) Chrome/67.0.3396.99 Safari/537.36'\n",
    "headers = {'User-Agent': ua}"
   ]
  },
  {
   "attachments": {},
   "cell_type": "markdown",
   "metadata": {},
   "source": [
    "# 全体の流れ\n",
    "- リスト`links1`にチラシを取得する店の階層1リンクを格納(例:https://tokubai.co.jp/%E3%83%A9%E3%82%A4%E3%83%95/9470)\n",
    "- 店ごとに取得する条件が異なるため、`link1_to_link2(link1)`という関数を作成。この関数は、リスト`links1`に含まれる適切なチラシの階層2リンク(string)のlist(`links2raw`)を返す\n",
    "- `links2raw`には最新ではないチラシも含まれるため、関数`get_new_urls(links2raw)`を作成。`./urls.txt`を利用。返り値`links2`には新しいチラシの階層2リンク\n",
    "- get_urls()で階層2のリンクを階層3のリンクに変換\n",
    "- 内部にダウンロード"
   ]
  },
  {
   "attachments": {},
   "cell_type": "markdown",
   "metadata": {},
   "source": [
    "## リスト`links1`にチラシを取得する店の階層1リンクを格納(例:https://tokubai.co.jp/%E3%83%A9%E3%82%A4%E3%83%95/9470)\n",
    "\n",
    "\n",
    "### チラシ1枚式/シュフー\n",
    "- ライフ北白川\n",
    "- ライフ東一条(北白川と同じ)\n",
    "- グレースたなか本店\n",
    "\n",
    "### チラシ1枚式/生鮮舘\n",
    "- 生鮮館白川\n",
    "- 生鮮館里の前\n",
    "\n",
    "### 単品/シュフー\n",
    "- フレスコ北白川\n",
    "- コレモ出町柳"
   ]
  },
  {
   "cell_type": "code",
   "execution_count": 1,
   "metadata": {},
   "outputs": [],
   "source": [
    "links1 = []\n",
    "links1.append(\"https://tokubai.co.jp/%E3%83%A9%E3%82%A4%E3%83%95/9470\") #ライフ\n",
    "links1.append(\"https://tokubai.co.jp/%E3%82%B0%E3%83%AC%E3%83%BC%E3%82%B9%E3%81%9F%E3%81%AA%E3%81%8B/12265\") #グレースたなか\n"
   ]
  },
  {
   "attachments": {},
   "cell_type": "markdown",
   "metadata": {},
   "source": [
    "階層構造\n",
    "\n",
    "あるスーパーが出している全チラシ(階層1)\n",
    "\n",
    "→1枚のチラシを表示するリンク(階層2)\n",
    "\n",
    "→チラシの具体的なリンク(階層3)\n",
    "\n",
    "\n",
    "\n",
    "https://tokubai.co.jp/%E3%83%A9%E3%82%A4%E3%83%95/9470\n",
    "\n",
    "→https://tokubai.co.jp/%E3%83%A9%E3%82%A4%E3%83%95/9470/leaflets/41074828?from=leaflet_navigation&origin_shop_id=9470\n",
    "\n",
    "→https://image.tokubai.co.jp/images/bargain_office_leaflets/o=true/5858474.jpg?1682066150"
   ]
  },
  {
   "cell_type": "code",
   "execution_count": 2,
   "metadata": {},
   "outputs": [],
   "source": [
    "# 公式サイトからチラシリンク一覧取得(元コード)\n",
    "\n",
    "def get_urls():\n",
    "  import requests\n",
    "  from bs4 import BeautifulSoup\n",
    "\n",
    "  url = \"https://tokubai.co.jp/%E3%83%A9%E3%82%A4%E3%83%95/9470/leaflets/41074828?from=leaflet_navigation&origin_shop_id=9470\"\n",
    "\n",
    "\n",
    "  html = requests.get(url)\n",
    "  soup = BeautifulSoup(html.text, 'html.parser')\n",
    "\n",
    "  # ★以下は実際のHTML構成に合わせて実装する\n",
    "  flyer_list = soup.find_all('table')\n",
    "  url_list = []\n",
    "  for flyer in flyer_list:\n",
    "    # 日付\n",
    "    date = flyer.find('div', {'class': 'sale'}).find('a').get_text(strip=True).replace(' ', '').replace('（', '(').replace('）', ')')\n",
    "\n",
    "    # PDF\n",
    "    url_info = {}\n",
    "    url_info['date'] = date\n",
    "    url_info['url'] = flyer.find('a', {'title': 'PDF'})['href']\n",
    "    url_list.append(url_info)\n",
    "\n",
    "  return url_list"
   ]
  },
  {
   "cell_type": "code",
   "execution_count": null,
   "metadata": {},
   "outputs": [],
   "source": [
    "#エラー吐かれる\n",
    "import requests\n",
    "from bs4 import BeautifulSoup\n",
    "\n",
    "url = \"https://tokubai.co.jp/%E3%83%A9%E3%82%A4%E3%83%95/9470/leaflets/41074828?from=leaflet_navigation&origin_shop_id=9470\"\n",
    "\n",
    "\n",
    "html = requests.get(url)\n",
    "soup = BeautifulSoup(html.text, 'html.parser')\n",
    "print(soup)"
   ]
  },
  {
   "cell_type": "code",
   "execution_count": 3,
   "metadata": {},
   "outputs": [
    {
     "name": "stdout",
     "output_type": "stream",
     "text": [
      "<!DOCTYPE html>\n",
      "\n",
      "<html>\n",
      "<head>\n",
      "<meta content=\"text/html; charset=utf-8\" http-equiv=\"Content-Type\"/>\n",
      "<meta content=\"IE=edge\" http-equiv=\"X-UA-Compatible\"/>\n",
      "<title>ライフ 北白川店のチラシ・店舗情報 | トクバイ</title><meta content=\"特売,トクバイ,セール,バーゲン,チラシ,クーポン,イベント,クチコミ,レシピ,簡単,料理,recipe\" name=\"keywords\"><meta content=\"スーパー・ドラッグストア掲載数No.1チラシサイト、「トクバイ」でチラシをチェック！クーポン・タイムセール・バーゲン情報で賢く節約！\" name=\"description\"><meta content=\"noindex,follow,noarchive\" name=\"robots\"/><meta content=\"nositelinkssearchbox\" name=\"google\"/>\n",
      "<meta content=\"authenticity_token\" name=\"csrf-param\"/>\n",
      "<meta content=\"n+BgS25ZFFDNT/XZxzdTRlv5HQa9qwp6tEnFL75GlifKmdxc9iQ/q6nA519iSSkGX4IiaLD56nhFWWYea+85gQ==\" name=\"csrf-token\"/>\n",
      "<link href=\"/%E3%83%A9%E3%82%A4%E3%83%95/9470/leaflets/41074828?from=leaflet_navigation&amp;origin_shop_id=9470\" hreflang=\"ja\" rel=\"alternate\"/>\n",
      "<link href=\"https://assets.tokubai.co.jp/assets/themes/bargain/favicon-733d1fdfb411b42bb2ad33d23a6e73d50ececb743ebcf2051fd414d8b52d9994.ico\" rel=\"icon\"/>\n",
      "<link href=\"https://assets.tokubai.co.jp/assets/themes/bargain/apple-touch-icon-dc772955be31724c8c683855a4b478faf3500642d698512d35dfdf8019ee8dde.png\" rel=\"apple-touch-icon-precomposed\"/>\n",
      "<link href=\"https://assets.tokubai.co.jp/assets/application-9398c8295ef12d26509c5eebb75e3139d2129e0a18c3ab4dc2ce17dd3e4227a9.css\" media=\"all\" rel=\"stylesheet\">\n",
      "<link href=\"https://assets.tokubai.co.jp/assets/themes/bargain/shared/app_install_banner-f43fba4e0d571a013494cafdc928f834bb9fe81eacd0b5bc85dfcc2e39e20bd5.css\" media=\"screen\" rel=\"stylesheet\">\n",
      "<link href=\"https://assets.tokubai.co.jp/assets/themes/bargain/shop_magazine/lead-93b988293923ebd252ace9ead79c20dcbb5ee918f2ffecf7ad7f6f7108230ba0.css\" media=\"all\" rel=\"stylesheet\"/>\n",
      "<script crossorigin=\"anonymouns\" src=\"//cdn.ravenjs.com/3.22.1/raven.min.js\"></script>\n",
      "<script>Raven.config('//dc349c7d89924b8298e13964c5e73a2e@sentry.io/283626', { sampleRate: 0.1 }).install();</script>\n",
      "<script src=\"https://assets.tokubai.co.jp/assets/application-eca2bcf25c5616acb03a0d532f06ad0e122cb65524475887ce57c875faead03e.js\"></script>\n",
      "<script src=\"https://assets.tokubai.co.jp/assets/themes/bargain/leaflet_detail-2fc97c8998a5ba0f86197aebc749c7f6710447af888d7a7043ac98b8bb99ac63.js\"></script>\n",
      "<script src=\"https://assets.tokubai.co.jp/assets/themes/bargain/shop_subscription-533a24818754508a0f8276b6b129ab2b32e951b9e01ec6ba386abaffbb734080.js\"></script>\n",
      "<script src=\"https://assets.tokubai.co.jp/assets/themes/bargain/app_install_banner-6a46d29bb72d197e3b8acb60075c3cc2fc7d5a244f30c9f2bec1d69867f97332.js\"></script>\n",
      "<script src=\"https://assets.tokubai.co.jp/assets/themes/bargain/shop_magazine-0c53cec26e92201e6e72cefd0af87d3a0952a2648dcdd7f6572d593b84e32dbb.js\"></script>\n",
      "<link href=\"//flux-cdn.com\" rel=\"preconnect\"/><link href=\"//securepubads.g.doubleclick.net\" rel=\"preconnect\"/><link href=\"//www.googletagservices.com\" rel=\"preconnect\"/><link href=\"//www.googletagmanager.com\" rel=\"preconnect\"/><link href=\"//tpc.googlesyndication.com\" rel=\"preconnect\"/><link href=\"//googleads.g.doubleclick.net\" rel=\"preconnect\"/><link href=\"//adservice.google.co.jp\" rel=\"preconnect\"/><link href=\"//js.fout.jp\" rel=\"preconnect\"/><link href=\"//www.google-analytics.com\" rel=\"preconnect\"/><link href=\"//static.criteo.net\" rel=\"preconnect\"/><link href=\"//c.amazon-adsystem.com\" rel=\"preconnect\"/>\n",
      "<script>(function(w,d,s,l,i){w[l]=w[l]||[];w[l].push({'gtm.start':\n",
      "new Date().getTime(),event:'gtm.js'});var f=d.getElementsByTagName(s)[0],\n",
      "j=d.createElement(s),dl=l!='dataLayer'?'&l='+l:'';j.async=true;j.src=\n",
      "'https://www.googletagmanager.com/gtm.js?id='+i+dl;f.parentNode.insertBefore(j,f);\n",
      "})(window,document,'script','dataLayer','GTM-WDZD9R8');\n",
      "</script>\n",
      "<meta content=\"https://tokubai.co.jp/%E3%83%A9%E3%82%A4%E3%83%95/9470/leaflets/41074828?from=leaflet_navigation&amp;origin_shop_id=9470\" property=\"og:url\"/>\n",
      "<meta content=\"ライフ 北白川店のチラシ・店舗情報 | トクバイ\" property=\"og:title\"/>\n",
      "<meta content=\"スーパー・ドラッグストア掲載数No.1チラシサイト、「トクバイ」でチラシをチェック！クーポン・タイムセール・バーゲン情報で賢く節約！\" property=\"og:description\"/>\n",
      "<meta content=\"https://assets.tokubai.co.jp/assets/themes/bargain_shops/ogp/tokubai_ogp-9e6f43a1787d83b94d3d200f1c8670b3876b765aea297c5648f4abfac259b73d.jpg\" property=\"og:image\"/>\n",
      "<script async=\"async\" src=\"https://www.googletagservices.com/tag/js/gpt.js\"></script>\n",
      "<script async=\"async\" src=\"https://flux-cdn.com/client/locoguide/flux_tokubai_TM_AR.min.js\"></script>\n",
      "<script async=\"async\" crossorigin=\"anonymous\" src=\"https://pagead2.googlesyndication.com/pagead/js/adsbygoogle.js?client=ca-pub-1574936888980624\"></script>\n",
      "<meta content='{\"code\":\"\"}' name=\"dfp-code\"/>\n",
      "<!-- Global site tag (gtag.js) - AdWords: 970110074 -->\n",
      "<script async=\"\" src=\"https://www.googletagmanager.com/gtag/js?id=AW-970110074\"></script>\n",
      "<script>\n",
      "  window.dataLayer = window.dataLayer || [];\n",
      "  function gtag(){dataLayer.push(arguments);}\n",
      "  gtag('js', new Date());\n",
      "\n",
      "  gtag('config', 'AW-970110074');\n",
      "</script>\n",
      "<script src=\"https://assets.tokubai.co.jp/assets/amazon_cloudwatch_rum-bbbfaa78dcadd821f2202ba3778c39c57bb6434e5ca9ab53c7905b6f8b8abd2f.js\"></script>\n",
      "<link href=\"https://assets.tokubai.co.jp/assets/themes/bargain/leaflets-5ef2100b4f6b52b7beaf89ed6b514fd37485d9af2e83fe28390761bff9582285.css\" media=\"all\" rel=\"stylesheet\"/>\n",
      "</link></link></meta></meta></head>\n",
      "<body>\n",
      "<!-- Google Tag Manager (noscript) -->\n",
      "<noscript><iframe height=\"0\" src=\"https://www.googletagmanager.com/ns.html?id=GTM-WDZD9R8\" style=\"display:none;visibility:hidden\" width=\"0\"></iframe></noscript>\n",
      "<!-- End Google Tag Manager (noscript) -->\n",
      "<div id=\"contents\">\n",
      "<div data-view-state='{\"current_leaflet\":{\"id\":41074828,\"high_resolution_image_url\":\"https://image.tokubai.co.jp/images/bargain_office_leaflets/o=true/5858474.jpg?1682066150\",\"alt\":\"2023年4月22〜25日までのチラシ\",\"url\":\"/%E3%83%A9%E3%82%A4%E3%83%95/9470/leaflets/41074828?from=leaflet_navigation\\u0026origin_shop_id=9470\",\"log_url\":\"/9470/leaflets/41074828/log?chain_name=%E3%83%A9%E3%82%A4%E3%83%95\",\"print_url\":\"/9470/leaflets/41074828/print\"},\"leaflets\":[{\"id\":41074828,\"high_resolution_image_url\":\"https://image.tokubai.co.jp/images/bargain_office_leaflets/o=true/5858474.jpg?1682066150\",\"alt\":\"2023年4月22〜25日までのチラシ\",\"url\":\"/%E3%83%A9%E3%82%A4%E3%83%95/9470/leaflets/41074828?from=leaflet_navigation\\u0026origin_shop_id=9470\",\"log_url\":\"/9470/leaflets/41074828/log?chain_name=%E3%83%A9%E3%82%A4%E3%83%95\",\"print_url\":\"/9470/leaflets/41074828/print\"},{\"id\":41074678,\"high_resolution_image_url\":\"https://image.tokubai.co.jp/images/bargain_office_leaflets/o=true/5858467.jpg?1682066155\",\"alt\":\"2023年4月22〜25日までのチラシ\",\"url\":\"/%E3%83%A9%E3%82%A4%E3%83%95/9470/leaflets/41074678?from=leaflet_navigation\\u0026origin_shop_id=9470\",\"log_url\":\"/9470/leaflets/41074678/log?chain_name=%E3%83%A9%E3%82%A4%E3%83%95\",\"print_url\":\"/9470/leaflets/41074678/print\"},{\"id\":41073859,\"high_resolution_image_url\":\"https://image.tokubai.co.jp/images/bargain_office_leaflets/o=true/5858448.jpg?1682064282\",\"alt\":\"2023年4月22〜25日までのチラシ\",\"url\":\"/%E3%83%A9%E3%82%A4%E3%83%95/9470/leaflets/41073859?from=leaflet_navigation\\u0026origin_shop_id=9470\",\"log_url\":\"/9470/leaflets/41073859/log?chain_name=%E3%83%A9%E3%82%A4%E3%83%95\",\"print_url\":\"/9470/leaflets/41073859/print\"},{\"id\":39939144,\"high_resolution_image_url\":\"https://image.tokubai.co.jp/images/bargain_office_leaflets/o=true/5798931.jpg?1680250334\",\"alt\":\"2023年4月1〜30日までのチラシ\",\"url\":\"/%E3%83%A9%E3%82%A4%E3%83%95/9470/leaflets/39939144?from=leaflet_navigation\\u0026origin_shop_id=9470\",\"log_url\":\"/9470/leaflets/39939144/log?chain_name=%E3%83%A9%E3%82%A4%E3%83%95\",\"print_url\":\"/9470/leaflets/39939144/print\"}]}' id=\"view_state\"></div>\n",
      "<div id=\"is_leaflet_view\"></div>\n",
      "<div class=\"main_wrapper\">\n",
      "<div class=\"header leaflet_header clearfix\">\n",
      "<div class=\"main_header_wrapper\">\n",
      "<a href=\"https://tokubai.co.jp/\"><img alt=\"トクバイロゴ\" class=\"service_logo f_left bargain_logo\" src=\"https://assets.tokubai.co.jp/assets/themes/bargain_shops/pc_tokubai_logo_header@2x-5f87a78e0abdeab673b7f52f62063bebb5e06143f80fac106a4377c7ec7766f2.png\"/>\n",
      "</a><div class=\"title_wrapper\"><h1 class=\"title\"><a href=\"https://tokubai.co.jp/%E3%83%A9%E3%82%A4%E3%83%95\">ライフ</a><a href=\"https://tokubai.co.jp/%E3%83%A9%E3%82%A4%E3%83%95/9470\">北白川店のチラシ・特売情報</a></h1></div>\n",
      "</div>\n",
      "<div class=\"leaflet\" id=\"app_install_banner\">\n",
      "<div class=\"ipad_banner_wrapper hidden\" data-hakari-keyword-on-view=\"bargain.app_install_banner.ipad.leaflets_show.imp\" data-shop-id=\"9470\">\n",
      "<a class=\"track_hakari_once\" data-track-hakari-extra='{\"shop_id\":9470}' data-track-hakari-keyword=\"bargain.app_install_banner.ipad.leaflets_show.click\" href=\"/mobile_application_redirections/redirect?event=ipad_leaflets_app_install_banner&amp;shop_id=9470\"><div class=\"left_content\">\n",
      "<img src=\"https://assets.tokubai.co.jp/assets/themes/bargain/ipad_web2app_banner/ipad_leaflets_app_install_banner_left_content-a6a3c6b9bddcfe584030381a6ba69cb1be432400a4b054c38a377b52ecc8b406.png\"/>\n",
      "</div>\n",
      "<div class=\"download_button\">\n",
      "<img src=\"https://assets.tokubai.co.jp/assets/themes/bargain/ipad_web2app_banner/ipad_leaflets_app_install_banner_button-f2cbd7f8bbc9bbda6a8fd54c38a5fbd5de232966b27f962a118834c14ec0e0de.png\"/>\n",
      "</div>\n",
      "</a></div>\n",
      "<div class=\"app_banner_wrapper hidden\">\n",
      "<div class=\"simplicity hidden clearfix\" data-shop-id=\"9470\" data-subscribe-shop-path=\"/\" id=\"bargain_shop_magazine_subscribe_form\">\n",
      "<div class=\"subscription_form\">\n",
      "<div class=\"subscribe_button empty_mail_subscription_button_block\">\n",
      "<a class=\"button small track_hakari_once\" data-track-hakari-keyword=\"bargain.shop_magazine.click\" href=\"mailto:9470%2Bpl@m.tokubai.to?body=%E4%BB%B6%E5%90%8D%E3%81%A8%E6%9C%AC%E6%96%87%E3%81%AF%E3%81%93%E3%81%AE%E3%81%BE%E3%81%BE%E3%81%8A%E9%80%81%E3%82%8A%E3%81%8F%E3%81%A0%E3%81%95%E3%81%84&amp;subject=%E3%83%A9%E3%82%A4%E3%83%95%20%E5%8C%97%E7%99%BD%E5%B7%9D%E5%BA%97%20%E3%83%A1%E3%83%BC%E3%83%AB%E3%83%9E%E3%82%AC%E3%82%B8%E3%83%B3%20from%20tokubai.co.jp\" source=\"pcweb_leaflet_show\">空メールを送信して登録する</a>\n",
      "</div>\n",
      "<div class=\"message_block\">トクバイからお得な情報をメールで受け取る事ができます。</div>\n",
      "<div class=\"term_block\">\n",
      "<span><a href=\"https://static.tokubai.co.jp/terms/tokubai_app_guideline.html\" target=\"_blank\">トクバイ利用規約</a></span>\n",
      "<span>および</span>\n",
      "<span><a href=\"https://locoguide.co.jp/privacy/\" target=\"_blank\">個人情報の取扱いについて</a></span>\n",
      "<span>をお読みいただき、ご同意の上送信してください。</span>\n",
      "</div>\n",
      "</div>\n",
      "<div class=\"subscribed_finish_message_block hidden\">\n",
      "<a class=\"close_button\" href=\"#\"></a>\n",
      "<div class=\"block finish_message\">\n",
      "<div class=\"block\">\n",
      "ご登録ありがとうございました。\n",
      "</div>\n",
      "<div class=\"block\">\n",
      "空メールが送れなかった場合、右記のアドレスへ件名/本文を記載せずメールをお送りください。\n",
      "</div>\n",
      "</div>\n",
      "<div class=\"block block5_0 center mail_address\">\n",
      "<input id=\"subscribe_mail_address\" name=\"subscribe_mail_address\" type=\"text\" value=\"9470+pl@m.tokubai.to\"/>\n",
      "</div>\n",
      "<div class=\"clearfix\"></div>\n",
      "</div>\n",
      "</div>\n",
      "</div>\n",
      "</div>\n",
      "</div>\n",
      "<div class=\"scene_and_navigation_buttons\">\n",
      "<div class=\"scene\">\n",
      "<img alt=\"2023年4月22〜25日までのチラシ\" class=\"leaflet transparent\" src=\"https://image.tokubai.co.jp/images/bargain_office_leaflets/o=true/5858474.jpg?1682066150\"/>\n",
      "<div class=\"indicator gr\"></div>\n",
      "</div>\n",
      "<ul class=\"other_leaflets_navigation_buttons\">\n",
      "<li class=\"other_leaflets_navigation_button previous\">\n",
      "<a class=\"previous_leaflet_button leaflet_button\" href=\"#\"><img class=\"button_icon\" src=\"https://assets.tokubai.co.jp/assets/themes/bargain_shops/leaflets/previous_leaflet-67024a8afff4407a83307058442ed6436582494e429aada5ec8efa16c6adf082.png\"/>\n",
      "</a></li>\n",
      "<li class=\"other_leaflets_navigation_button next\">\n",
      "<a class=\"next_shop_button shop_button\" href=\"/%E7%9C%BC%E9%8F%A1%E5%B8%82%E5%A0%B4/156367/leaflets/41107476?from=leaflet_navigation&amp;origin_shop_id=9470\"><div class=\"navigation_tooltip next\">\n",
      "<div class=\"tail\"></div>\n",
      "<div class=\"tail_inner\"></div>\n",
      "<div class=\"label\">\n",
      "眼鏡市場 京都北大路白川店\n",
      "<br/>\n",
      "チラシ4枚\n",
      "</div>\n",
      "</div>\n",
      "<img class=\"button_icon\" src=\"https://assets.tokubai.co.jp/assets/themes/bargain_shops/leaflets/next_shop-6e044bfd11cabdb40d6c1b876b9e5a1103a21a8b05329c03d9a7bd6ec0445f9a.png\"/>\n",
      "</a></li>\n",
      "<li class=\"other_leaflets_navigation_button next\">\n",
      "<a class=\"next_leaflet_button leaflet_button\" href=\"#\"><img class=\"button_icon\" src=\"https://assets.tokubai.co.jp/assets/themes/bargain_shops/leaflets/next_leaflet-c849ec0cf9ed3ddc2becb6e1e410986fe043ef17dbe3ac1c6d585ffd0938584f.png\"/>\n",
      "</a></li>\n",
      "</ul>\n",
      "</div>\n",
      "<div class=\"bottom_navigations_wrapper visible\"><ul class=\"navigation_buttons\"><li class=\"navigation_button_wrapper\"><div class=\"navigation_button magnify enabled first\">\n",
      "<span class=\"icon_font\"></span>\n",
      "</div></li><li class=\"navigation_button_wrapper\"><div class=\"navigation_button minify enabled\">\n",
      "<span class=\"icon_font\"></span>\n",
      "</div></li><li class=\"navigation_button_wrapper\"><div class=\"navigation_button justify enabled\">\n",
      "<span class=\"icon_font\"></span>\n",
      "<div class=\"icon_label\">\n",
      "100\n",
      "<br/>\n",
      "%\n",
      "</div>\n",
      "</div></li><li class=\"navigation_button_wrapper\"><a class=\"navigation_button print enabled last\" href=\"/9470/leaflets/41074828/print\" target=\"_blank\"><span class=\"icon_font\"></span></a></li></ul><div class=\"arrows_wrapper\">\n",
      "<div class=\"arrows_inner\">\n",
      "<div class=\"arrows\">\n",
      "<span class=\"icon_font icf_arrow_up arrow up\"></span>\n",
      "<span class=\"icon_font icf_arrow_down arrow down\"></span>\n",
      "このお店の他のチラシ・特売情報\n",
      "</div>\n",
      "</div>\n",
      "</div>\n",
      "<div class=\"bottom_navigation_container\">\n",
      "<div class=\"bottom_navigations\">\n",
      "<div class=\"container\">\n",
      "<a class=\"other_leaflet_link\" href=\"/%E3%83%A9%E3%82%A4%E3%83%95/9470/leaflets/41074828?from=other_leaflet\"><img alt=\"2023年4月22〜25日までのチラシ\" class=\"leaflet_image leaflet_image_41074828 highlighted\" src=\"https://image.tokubai.co.jp/images/bargain_office_leaflets/w=180,h=135,c=true/5858474.jpg?1682066150\"/>\n",
      "<div class=\"container_title\">\n",
      "くらし応援祭\n",
      "</div>\n",
      "<div class=\"container_description\">\n",
      "2023年4月22〜25日まで\n",
      "</div>\n",
      "</a>\n",
      "</div>\n",
      "<div class=\"container\">\n",
      "<a class=\"other_leaflet_link\" href=\"/%E3%83%A9%E3%82%A4%E3%83%95/9470/leaflets/41074678?from=other_leaflet\"><img alt=\"2023年4月22〜25日までのチラシ\" class=\"leaflet_image leaflet_image_41074678 false\" src=\"https://image.tokubai.co.jp/images/bargain_office_leaflets/w=180,h=135,c=true/5858467.jpg?1682066155\"/>\n",
      "<div class=\"container_title\">\n",
      "生鮮大市\n",
      "</div>\n",
      "<div class=\"container_description\">\n",
      "2023年4月22〜25日まで\n",
      "</div>\n",
      "</a>\n",
      "</div>\n",
      "<div class=\"container\">\n",
      "<a class=\"other_leaflet_link\" href=\"/%E3%83%A9%E3%82%A4%E3%83%95/9470/leaflets/41073859?from=other_leaflet\"><img alt=\"2023年4月22〜25日までのチラシ\" class=\"leaflet_image leaflet_image_41073859 false\" src=\"https://image.tokubai.co.jp/images/bargain_office_leaflets/w=180,h=135,c=true/5858448.jpg?1682064282\"/>\n",
      "<div class=\"container_title\">\n",
      "【Wｅｂ】エチケット・UV\n",
      "</div>\n",
      "<div class=\"container_description\">\n",
      "2023年4月22〜25日まで\n",
      "</div>\n",
      "</a>\n",
      "</div>\n",
      "<div class=\"container\">\n",
      "<a class=\"other_leaflet_link\" href=\"/%E3%83%A9%E3%82%A4%E3%83%95/9470/leaflets/39939144?from=other_leaflet\"><img alt=\"2023年4月1〜30日までのチラシ\" class=\"leaflet_image leaflet_image_39939144 false\" src=\"https://image.tokubai.co.jp/images/bargain_office_leaflets/w=180,h=135,c=true/5798931.jpg?1680250334\"/>\n",
      "<div class=\"container_title\">\n",
      "【WEB】BIORAL NEWS\n",
      "</div>\n",
      "<div class=\"container_description\">\n",
      "2023年4月1〜30日まで\n",
      "</div>\n",
      "</a>\n",
      "</div>\n",
      "<div class=\"devider\"></div>\n",
      "<a class=\"shop_link container\" href=\"/%E3%83%A9%E3%82%A4%E3%83%95/9470\"><div class=\"arrow_circle\">\n",
      "<div class=\"arrow_right icon_font icf_arrow_right\"></div>\n",
      "</div>\n",
      "<div class=\"label\">\n",
      "このお店のページを\n",
      "<br/>\n",
      "もっと見る\n",
      "</div>\n",
      "</a></div>\n",
      "</div>\n",
      "</div>\n",
      "</div>\n",
      "</div>\n",
      "</body>\n",
      "</html>\n",
      "\n"
     ]
    }
   ],
   "source": [
    "#\"https://qiita.com/chiguh28/items/b3bfcd6404caeb3b5dde\" を参考に改良\n",
    "ua = 'Mozilla/5.0 (Macintosh; Intel Mac OS X 10_13_5) AppleWebKit/537.36 (KHTML, like Gecko) Chrome/67.0.3396.99 Safari/537.36'\n",
    "headers = {'User-Agent': ua}\n",
    "\n",
    "r = requests.get(url,headers=headers)\n",
    "soup = BeautifulSoup(r.text,\"html.parser\")\n",
    "print(soup)"
   ]
  },
  {
   "cell_type": "code",
   "execution_count": 22,
   "metadata": {},
   "outputs": [
    {
     "name": "stdout",
     "output_type": "stream",
     "text": [
      "[<img alt=\"2023年4月22〜25日までのチラシ\" class=\"leaflet transparent\" src=\"https://image.tokubai.co.jp/images/bargain_office_leaflets/o=true/5858474.jpg?1682066150\"/>]\n",
      "{'https://image.tokubai.co.jp/images/bargain_office_leaflets/o=true/5858474.jpg?1682066150'}\n",
      "https://image.tokubai.co.jp/images/bargain_office_leaflets/o=true/5858474.jpg?1682066150\n"
     ]
    }
   ],
   "source": [
    "#`soup`からチラシのurlを取得　参考：https://qiita.com/neet-AI/items/98d4194872ee4f53e3b4\n",
    "flyer_list = soup.find_all(\"img\",class_=\"leaflet\")\n",
    "print(flyer_list)\n",
    "print(set(tag['src'] for tag in flyer_list))\n",
    "print(soup.find('img',class_='leaflet').get('src'))"
   ]
  },
  {
   "cell_type": "code",
   "execution_count": 23,
   "metadata": {},
   "outputs": [],
   "source": [
    "#まとめ： 関数内のurlにあるチラシ.jpgのリンクを出力する`get_url()`\n",
    "def get_url():\n",
    "  import requests\n",
    "  from bs4 import BeautifulSoup\n",
    "\n",
    "  url = \"https://tokubai.co.jp/%E3%83%A9%E3%82%A4%E3%83%95/9470/leaflets/41074828?from=leaflet_navigation&origin_shop_id=9470\"\n",
    "  ua = 'Mozilla/5.0 (Macintosh; Intel Mac OS X 10_13_5) AppleWebKit/537.36 (KHTML, like Gecko) Chrome/67.0.3396.99 Safari/537.36'\n",
    "  headers = {'User-Agent': ua}\n",
    "\n",
    "  r = requests.get(url,headers=headers)\n",
    "  soup = BeautifulSoup(r.text,\"html.parser\")\n",
    "  return soup.find('img',class_='leaflet').get('src')"
   ]
  },
  {
   "cell_type": "code",
   "execution_count": 24,
   "metadata": {},
   "outputs": [
    {
     "data": {
      "text/plain": [
       "'https://image.tokubai.co.jp/images/bargain_office_leaflets/o=true/5858474.jpg?1682066150'"
      ]
     },
     "execution_count": 24,
     "metadata": {},
     "output_type": "execute_result"
    }
   ],
   "source": [
    "get_url()"
   ]
  },
  {
   "cell_type": "code",
   "execution_count": 13,
   "metadata": {},
   "outputs": [
    {
     "ename": "NameError",
     "evalue": "name 'headers' is not defined",
     "output_type": "error",
     "traceback": [
      "\u001b[0;31m---------------------------------------------------------------------------\u001b[0m",
      "\u001b[0;31mNameError\u001b[0m                                 Traceback (most recent call last)",
      "Cell \u001b[0;32mIn[13], line 3\u001b[0m\n\u001b[1;32m      1\u001b[0m \u001b[39m#これから作業の第一段階のテスト\u001b[39;00m\n\u001b[1;32m      2\u001b[0m url \u001b[39m=\u001b[39m \u001b[39m\"\u001b[39m\u001b[39mhttps://tokubai.co.jp/\u001b[39m\u001b[39m%E\u001b[39;00m\u001b[39m3\u001b[39m\u001b[39m%83%\u001b[39;00m\u001b[39mA9\u001b[39m\u001b[39m%E\u001b[39;00m\u001b[39m3\u001b[39m\u001b[39m%82%\u001b[39;00m\u001b[39mA4\u001b[39m\u001b[39m%E\u001b[39;00m\u001b[39m3\u001b[39m\u001b[39m%83%\u001b[39;00m\u001b[39m95/9470\u001b[39m\u001b[39m\"\u001b[39m\n\u001b[0;32m----> 3\u001b[0m r \u001b[39m=\u001b[39m requests\u001b[39m.\u001b[39mget(url,headers\u001b[39m=\u001b[39mheaders)\n\u001b[1;32m      4\u001b[0m soup \u001b[39m=\u001b[39m BeautifulSoup(r\u001b[39m.\u001b[39mtext,\u001b[39m\"\u001b[39m\u001b[39mhtml.parser\u001b[39m\u001b[39m\"\u001b[39m)\n\u001b[1;32m      5\u001b[0m \u001b[39mprint\u001b[39m(soup\u001b[39m.\u001b[39mfind_all(class_\u001b[39m=\u001b[39m\u001b[39m\"\u001b[39m\u001b[39mimage_element\u001b[39m\u001b[39m\"\u001b[39m)[\u001b[39m0\u001b[39m])\n",
      "\u001b[0;31mNameError\u001b[0m: name 'headers' is not defined"
     ]
    }
   ],
   "source": [
    "#これから作業の第一段階のテスト\n",
    "url = \"https://tokubai.co.jp/%E3%83%A9%E3%82%A4%E3%83%95/9470\"\n",
    "r = requests.get(url,headers=headers)\n",
    "soup = BeautifulSoup(r.text,\"html.parser\")\n",
    "print(soup.find_all(class_=\"image_element\")[0])\n",
    "print(\"\")\n",
    "print(len(soup.find(class_=\"image_element\").find(class_=\"description\")))"
   ]
  },
  {
   "cell_type": "code",
   "execution_count": 49,
   "metadata": {},
   "outputs": [
    {
     "name": "stdout",
     "output_type": "stream",
     "text": [
      "\n",
      "2023年4月22〜25日まで\n",
      "\n"
     ]
    }
   ],
   "source": [
    "print(soup.find(class_=\"image_element\").find(class_=\"description\").string)"
   ]
  },
  {
   "cell_type": "code",
   "execution_count": 45,
   "metadata": {},
   "outputs": [
    {
     "name": "stdout",
     "output_type": "stream",
     "text": [
      "2023年4月22〜25日まで\n",
      "\n"
     ]
    }
   ],
   "source": [
    "print((soup.find(class_=\"image_element\").find(class_=\"description\").string)[1:])"
   ]
  },
  {
   "cell_type": "code",
   "execution_count": 65,
   "metadata": {},
   "outputs": [
    {
     "name": "stdout",
     "output_type": "stream",
     "text": [
      "2023年4月22〜25日まで\n",
      "くらし応援祭\n",
      "/%E3%83%A9%E3%82%A4%E3%83%95/9470/leaflets/41074828\n",
      "https://tokubai.co.jp/%E3%83%A9%E3%82%A4%E3%83%95/9470/%E3%83%A9%E3%82%A4%E3%83%95/9470/leaflets/41074828\n",
      "2023年4月22〜25日まで\n",
      "生鮮大市\n",
      "/%E3%83%A9%E3%82%A4%E3%83%95/9470/leaflets/41074678\n",
      "https://tokubai.co.jp/%E3%83%A9%E3%82%A4%E3%83%95/9470/%E3%83%A9%E3%82%A4%E3%83%95/9470/leaflets/41074678\n",
      "2023年4月22〜25日まで\n",
      "【Wｅｂ】エチケット・UV\n",
      "/%E3%83%A9%E3%82%A4%E3%83%95/9470/leaflets/41073859\n",
      "https://tokubai.co.jp/%E3%83%A9%E3%82%A4%E3%83%95/9470/%E3%83%A9%E3%82%A4%E3%83%95/9470/leaflets/41073859\n",
      "2023年4月1〜30日まで\n",
      "【WEB】BIORAL NEWS\n",
      "/%E3%83%A9%E3%82%A4%E3%83%95/9470/leaflets/39939144\n",
      "https://tokubai.co.jp/%E3%83%A9%E3%82%A4%E3%83%95/9470/%E3%83%A9%E3%82%A4%E3%83%95/9470/leaflets/39939144\n"
     ]
    }
   ],
   "source": [
    "#チラシ一覧のサイトからタイトルとサブタイトルを抽出、ここから条件分岐を作れないだろうか？\n",
    "elements = soup.find_all(class_=\"image_element\")\n",
    "for element in elements:\n",
    "    date = element.find(class_=\"description\").string[1:-1]\n",
    "    print(date)\n",
    "    title = element.find(class_=\"text hoverable_link\").string[1:-1]\n",
    "    print(title)\n",
    "    link = element.get(\"href\")\n",
    "    print(link)\n",
    "    print(url+link)"
   ]
  },
  {
   "cell_type": "code",
   "execution_count": 3,
   "metadata": {},
   "outputs": [
    {
     "data": {
      "text/plain": [
       "2"
      ]
     },
     "execution_count": 3,
     "metadata": {},
     "output_type": "execute_result"
    }
   ],
   "source": [
    "old_url_list = []\n",
    "with open('./urls.txt', 'r') as f:\n",
    "    old_url_list = f.read().splitlines()\n",
    "\n"
   ]
  },
  {
   "cell_type": "code",
   "execution_count": 71,
   "metadata": {},
   "outputs": [],
   "source": [
    "#urlが新しいものかどうか判定するやつを作る\n",
    "#'./urls.txt'には過去に取得した階層2リンクが保存されていると仮定\n",
    "#old_urlsとnew_urlsを比較、「oldにありnewにもある」リンクと「oldになくnewにはある」リンク一覧を`./urls.txt`に保存\n",
    "#「oldになくnewにはある」リンクのリストが返り値\n",
    "\n",
    "def get_new_urls(new_urls): #urlsの中には現在ある\n",
    "  # urls.txt読込\n",
    "  old_urls = []\n",
    "  with open('/urls.txt', 'r') as f:\n",
    "    old_urls = f.read().splitlines()\n",
    "\n",
    "  new_urls = []\n",
    "  urls_text = []\n",
    "  count = 0\n",
    "  for new_url in new_urls:\n",
    "    urls_text.append(new_url + '\\n')\n",
    "\n",
    "    if new_url not in old_urls:\n",
    "      # 新規\n",
    "      new_url = count\n",
    "      new_urls.append(new_url)\n",
    "      count += 1\n",
    "\n",
    "  # 今回のURL一覧をurls.txtに書込\n",
    "  f = open('/urls.txt', 'w')\n",
    "  f.writelines(urls_text)\n",
    "  f.close()\n",
    "\n",
    "  return new_urls"
   ]
  },
  {
   "cell_type": "code",
   "execution_count": 72,
   "metadata": {},
   "outputs": [
    {
     "ename": "TypeError",
     "evalue": "'str' object does not support item assignment",
     "output_type": "error",
     "traceback": [
      "\u001b[0;31m---------------------------------------------------------------------------\u001b[0m",
      "\u001b[0;31mTypeError\u001b[0m                                 Traceback (most recent call last)",
      "Cell \u001b[0;32mIn[72], line 1\u001b[0m\n\u001b[0;32m----> 1\u001b[0m get_new_urls([url])\n",
      "Cell \u001b[0;32mIn[71], line 16\u001b[0m, in \u001b[0;36mget_new_urls\u001b[0;34m(url_list)\u001b[0m\n\u001b[1;32m     12\u001b[0m urls_text\u001b[39m.\u001b[39mappend(url_info \u001b[39m+\u001b[39m \u001b[39m'\u001b[39m\u001b[39m\\n\u001b[39;00m\u001b[39m'\u001b[39m)\n\u001b[1;32m     14\u001b[0m \u001b[39mif\u001b[39;00m url_info \u001b[39mnot\u001b[39;00m \u001b[39min\u001b[39;00m old_url_list:\n\u001b[1;32m     15\u001b[0m   \u001b[39m# 新規\u001b[39;00m\n\u001b[0;32m---> 16\u001b[0m   url_info[\u001b[39m'\u001b[39m\u001b[39mnumber\u001b[39m\u001b[39m'\u001b[39m] \u001b[39m=\u001b[39m count\n\u001b[1;32m     17\u001b[0m   new_url_list\u001b[39m.\u001b[39mappend(url_info)\n\u001b[1;32m     18\u001b[0m   count \u001b[39m+\u001b[39m\u001b[39m=\u001b[39m \u001b[39m1\u001b[39m\n",
      "\u001b[0;31mTypeError\u001b[0m: 'str' object does not support item assignment"
     ]
    }
   ],
   "source": [
    "get_new_urls([url])"
   ]
  },
  {
   "cell_type": "code",
   "execution_count": 68,
   "metadata": {},
   "outputs": [
    {
     "data": {
      "text/plain": [
       "'https://tokubai.co.jp/%E3%83%A9%E3%82%A4%E3%83%95/9470'"
      ]
     },
     "execution_count": 68,
     "metadata": {},
     "output_type": "execute_result"
    }
   ],
   "source": [
    "url"
   ]
  },
  {
   "cell_type": "code",
   "execution_count": null,
   "metadata": {},
   "outputs": [],
   "source": []
  }
 ],
 "metadata": {
  "kernelspec": {
   "display_name": "base",
   "language": "python",
   "name": "python3"
  },
  "language_info": {
   "codemirror_mode": {
    "name": "ipython",
    "version": 3
   },
   "file_extension": ".py",
   "mimetype": "text/x-python",
   "name": "python",
   "nbconvert_exporter": "python",
   "pygments_lexer": "ipython3",
   "version": "3.9.16"
  },
  "orig_nbformat": 4
 },
 "nbformat": 4,
 "nbformat_minor": 2
}
