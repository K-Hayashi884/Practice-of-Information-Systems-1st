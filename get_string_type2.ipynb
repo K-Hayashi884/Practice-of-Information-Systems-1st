{
 "cells": [
  {
   "attachments": {},
   "cell_type": "markdown",
   "metadata": {},
   "source": [
    "type1の店(tokubai.co.jpのリンクを踏むとチラシの画像が表示されるような店)\n",
    "\n",
    "type2の店(tokubai.co.jpのリンクを踏むと具体的な特売商品が文字列で表示されるような店)\n",
    "\n",
    "# 全体の流れ\n",
    "- 1.リスト`links1`にチラシを取得する店(type2)の階層1リンクを格納(例:https://tokubai.co.jp/%E3%83%A9%E3%82%A4%E3%83%95/9470)\n",
    "- 2.type2の店は特売商品を文字で記載しているため、`gettexts(link1)`という関数を作成。これは1つの店リンク`link1`を受け取り、特売商品とその価格のタプルリストを返す\n",
    "- \n",
    "- 2.店ごとに取得する条件が異なるため、`getlinks12(link1)`という関数を作成。この関数は`links1`に含まれる適切なチラシの階層2リンク(string)のlist(`links2raw`)を返す\n",
    "- 3.`links2raw`には最新ではないチラシも含まれるため、関数`get_new_urls(links2raw)`を作成。`./urls.txt`を利用。返り値`links2`には新しいチラシの階層2リンク\n",
    "- [4.`get_urls()`で階層2のリンクを階層3のリンク`links3`に変換](#4.`get_urls()`で階層2のリンクを階層3のリンクに変換 )\n",
    "- [5.`DLjpg()`で内部にダウンロード](#5.`DLjpg()`で内部にダウンロード)"
   ]
  },
  {
   "cell_type": "code",
   "execution_count": 1,
   "metadata": {},
   "outputs": [],
   "source": [
    "#事前準備\n",
    "\n",
    "import requests\n",
    "from bs4 import BeautifulSoup\n",
    "import calendar\n",
    "#ユーザエージェント変更\n",
    "ua = \"Mozilla/5.0 (Macintosh; Intel Mac OS X 10_15_7) AppleWebKit/537.36 (KHTML, like Gecko) Chrome/112.0.0.0 Safari/537.36\"\n",
    "headers = {'User-Agent': ua}"
   ]
  },
  {
   "cell_type": "code",
   "execution_count": 53,
   "metadata": {},
   "outputs": [],
   "source": [
    "#links1を作成\n",
    "links1 = []\n",
    "links1.append(\"https://tokubai.co.jp/%E5%A4%A7%E5%9B%BD%E5%B1%8B/14801\") #大国屋白川店\n",
    "links1.append(\"https://tokubai.co.jp/%E3%82%B3%E3%83%AC%E3%83%A2/187995\") #コレモ出町柳\n",
    "links1.append(\"https://tokubai.co.jp/%E3%83%95%E3%83%AC%E3%82%B9%E3%82%B3/4244\") #フレスコ河原町丸太町\n",
    "links1.append(\"https://tokubai.co.jp/%E3%82%A4%E3%82%BA%E3%83%9F%E3%83%A4/9148\") #イズミヤ高野店"
   ]
  },
  {
   "cell_type": "code",
   "execution_count": 52,
   "metadata": {},
   "outputs": [],
   "source": [
    "def gettexts(link1):\n",
    "    r = requests.get(link1,headers=headers)\n",
    "    soup = BeautifulSoup(r.text,\"html.parser\")\n",
    "    if \"%E3%82%B3%E3%83%AC%E3%83%A2/187995\" in link1: #コレモ出町柳の場合\n",
    "        l = \"https://tokubai.co.jp/%E3%82%B3%E3%83%AC%E3%83%A2\"\n",
    "        if len(soup.find_all(class_=\"corner_more_link_wrapper\")) == 1:\n",
    "            link = soup.find(class_=\"corner_more_link\")\n",
    "            l = l + link.get(\"href\")\n",
    "            r = requests.get(l,headers=headers)\n",
    "            soup = BeautifulSoup(r.text,\"html.parser\")\n",
    "        elements = soup.find_all(class_=\"name hoverable_link\")\n",
    "        print([element.contents[0][1:-1] for element in elements])\n",
    "\n",
    "    elif \"%E5%A4%A7%E5%9B%BD%E5%B1%8B/14801\" in link1: #大黒屋北白川の場合\n",
    "        elements = soup.find_all(class_=\"name hoverable_link\")\n",
    "        print([element.contents[0][1:-1] for element in elements])\n",
    "\n",
    "    elif \"%E3%83%95%E3%83%AC%E3%82%B9%E3%82%B3/4244\" in link1: #フレスコ川端の場合\n",
    "        elements = soup.find_all(class_=\"name hoverable_link\")\n",
    "        print([element.contents[0][1:-1] for element in elements])\n",
    "\n",
    "    elif \"%E3%82%A4%E3%82%BA%E3%83%9F%E3%83%A4/9148\" in link1: #イズミヤ高野の場合\n",
    "        elements = soup.find_all(class_=\"name hoverable_link\")\n",
    "        print([element.contents[0][1:-1] for element in elements])"
   ]
  },
  {
   "cell_type": "code",
   "execution_count": 54,
   "metadata": {},
   "outputs": [
    {
     "name": "stdout",
     "output_type": "stream",
     "text": [
      "['きゅうり', 'うなぎ蒲焼【大】\\u3000[自家焼]', '黒毛和牛上冷しゃぶ用', 'カップヌードル（レギュラー/カレー）', '超熟食パン（４枚/５枚/６枚/山型５枚）', 'お肉屋さんのコロッケ']\n",
      "['トマト', 'ほうれん草', '舞茸', 'きゅうり', 'スウィーティオバナナ', 'ブラックタイガーエビ （養殖・解凍）特大サイズ', 'フレスコ塩鮭 （トラウトサーモン・養殖）', '茹でたこ', '自家製うなぎ蒲焼（養殖）', '牛切り落とし（肩ロース）', 'ハーブ三元豚小間切れ', '氷温熟成鶏モモ肉', 'こくうまウインナー']\n",
      "['ブラックタイガーエビ特大サイズ（養殖・解凍）', '定塩銀鮭（甘口）', 'サニーレタス', 'にら', '新玉ねぎ', 'バナナ', '氷温熟成鶏モモ肉', '牛切り落とし(肩ロース)', 'ハーブ三元豚 豚小間切れ', 'ハーブ三元豚 豚ローステキ・カツ用', '昔のコロッケ', 'どん兵衛ヤンニョムチキン味焼うどん', 'どん兵衛旨辛海鮮ちゃんぽん味うどん', 'UFO和風醤油てりやきマヨ焼そば', '沖縄そば', '追いがつおつゆ', '生乳100％ヨーグルト', 'ラーマ バターの風味', 'かけるチーズ', 'キリクリーミーポーション', '加塩バター', '乳酸菌飲料', 'マウントレーニア（カフェラテ・エスプレッソ）']\n",
      "['ブロッコリー', '・特選丸大豆しょうゆ・減塩しょうゆ', '新バレイショ', 'ほうれん草', 'サンふじ', '国産若どりもも肉', '国産豚肉こまぎれ', '・マヨネーズ（450g）・ハーフ（400g）', 'おさしみ4色盛合せ', 'あっさりおだしがおいしいどん兵衛\\u3000・きざみ揚げうどん・揚げ玉そば・肉だしうどん']\n"
     ]
    }
   ],
   "source": [
    "for link1 in links1:\n",
    "    gettexts(link1)"
   ]
  },
  {
   "cell_type": "code",
   "execution_count": null,
   "metadata": {},
   "outputs": [],
   "source": []
  }
 ],
 "metadata": {
  "kernelspec": {
   "display_name": "base",
   "language": "python",
   "name": "python3"
  },
  "language_info": {
   "codemirror_mode": {
    "name": "ipython",
    "version": 3
   },
   "file_extension": ".py",
   "mimetype": "text/x-python",
   "name": "python",
   "nbconvert_exporter": "python",
   "pygments_lexer": "ipython3",
   "version": "3.9.16"
  },
  "orig_nbformat": 4
 },
 "nbformat": 4,
 "nbformat_minor": 2
}
